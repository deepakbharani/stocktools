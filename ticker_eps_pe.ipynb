{
 "cells": [
  {
   "cell_type": "markdown",
   "metadata": {},
   "source": [
    "# Imports"
   ]
  },
  {
   "cell_type": "code",
   "execution_count": 2,
   "metadata": {},
   "outputs": [],
   "source": [
    "import os\n",
    "import sys\n",
    "sys.path.append(\"/Library/Frameworks/Python.framework/Versions/3.9/lib/python3.9/site-packages/\")"
   ]
  },
  {
   "cell_type": "code",
   "execution_count": 3,
   "metadata": {},
   "outputs": [],
   "source": [
    "import yfinance as yf\n",
    "import pandas as pd\n",
    "import numpy as np"
   ]
  },
  {
   "cell_type": "markdown",
   "metadata": {},
   "source": [
    "# Read Excel\n",
    "Excel contains the list of stocks and their ticker symbol for an ETF "
   ]
  },
  {
   "cell_type": "code",
   "execution_count": 7,
   "metadata": {},
   "outputs": [],
   "source": [
    "# Get only .csv files from the directory \n",
    "csv_list = []\n",
    "for items in os.listdir():\n",
    "    if \".csv\" in items:\n",
    "        csv_list.append(items)\n",
    "    else:\n",
    "        pass\n",
    "\n",
    "df = pd.read_csv(csv_list[0])\n",
    "tickers = df['ticker'].tolist()\n",
    "company = df['company'].tolist()"
   ]
  },
  {
   "cell_type": "markdown",
   "metadata": {},
   "source": [
    "# Get Stockdata"
   ]
  },
  {
   "cell_type": "code",
   "execution_count": 15,
   "metadata": {},
   "outputs": [],
   "source": [
    "eps = []\n",
    "pe = []\n",
    "cpny = []\n",
    "for i in range(len(tickers)):\n",
    "\n",
    "    try:\n",
    "        tic = yf.Ticker(tickers[i]).info\n",
    "        pe.append(tic['trailingPE'])\n",
    "        eps.append(tic['trailingEps'])\n",
    "        cpny.append(company[i])\n",
    "        #f\"{cpny[-1]} has a PE ratio of {pe[-1]} and has an EPS of {eps[-1]}\"\n",
    "    except KeyError:\n",
    "        pass\n",
    "    except AttributeError:\n",
    "        pass\n",
    "\n"
   ]
  },
  {
   "cell_type": "markdown",
   "metadata": {},
   "source": [
    "# Print PE and EPS of the companies"
   ]
  },
  {
   "cell_type": "code",
   "execution_count": 32,
   "metadata": {},
   "outputs": [
    {
     "name": "stdout",
     "output_type": "stream",
     "text": [
      "JD.COM INC-ADR has a PE ratio of 16.65493 and has an EPS of 4.828\n",
      "LOCKHEED MARTIN CORP has a PE ratio of 15.891623 and has an EPS of 24.304\n",
      "WORKHORSE GROUP INC has a PE ratio of 18.678572 and has an EPS of 0.7\n"
     ]
    }
   ],
   "source": [
    "for i in range (len(cpny)):\n",
    "    if pe[i] < 25:\n",
    "        print(f\"{cpny[i]} has a PE ratio of {pe[i]} and has an EPS of {eps[i]}\")\n"
   ]
  }
 ],
 "metadata": {
  "kernelspec": {
   "display_name": "Python 3",
   "language": "python",
   "name": "python3"
  },
  "language_info": {
   "codemirror_mode": {
    "name": "ipython",
    "version": 3
   },
   "file_extension": ".py",
   "mimetype": "text/x-python",
   "name": "python",
   "nbconvert_exporter": "python",
   "pygments_lexer": "ipython3",
   "version": "3.8.5"
  }
 },
 "nbformat": 4,
 "nbformat_minor": 4
}
